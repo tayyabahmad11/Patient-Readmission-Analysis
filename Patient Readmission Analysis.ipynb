{
 "cells": [
  {
   "cell_type": "code",
   "execution_count": 1,
   "metadata": {
    "scrolled": true
   },
   "outputs": [],
   "source": [
    "import pandas as pd\n",
    "import sklearn\n",
    "import numpy as np\n",
    "import seaborn as sns\n",
    "import matplotlib.pyplot as plt\n",
    "\n",
    "from sklearn.preprocessing import LabelEncoder\n",
    "from sklearn.neural_network import MLPClassifier\n",
    "from sklearn.preprocessing import StandardScaler\n",
    "from sklearn.ensemble import RandomForestClassifier\n",
    "from sklearn.model_selection import train_test_split\n",
    "from sklearn.neighbors import KNeighborsClassifier\n",
    "from sklearn.naive_bayes import GaussianNB\n",
    "\n",
    "from sklearn.metrics import classification_report, confusion_matrix\n",
    "from sklearn import metrics"
   ]
  },
  {
   "cell_type": "code",
   "execution_count": 73,
   "metadata": {
    "scrolled": true
   },
   "outputs": [],
   "source": [
    "# functions used in this program:\n",
    "\n",
    "# data manipulation------------------------------------------------------------------------\n",
    "\n",
    "def data_to_num(data):\n",
    "    for (columnName, columnData) in data.iteritems():\n",
    "        if (data[columnName].dtype == 'object'):\n",
    "            data[columnName] = data[columnName].astype('category')\n",
    "\n",
    "    cat_columns = data.select_dtypes(['category']).columns\n",
    "    data[cat_columns] = data[cat_columns].apply(lambda x: x.cat.codes)\n",
    "    \n",
    "    return data\n",
    "\n",
    "def data_clean(inpatients):\n",
    "    inpatients = inpatients.drop('encounter_id', axis=1)\n",
    "    inpatients = inpatients.replace(to_replace='?', value='NaN')\n",
    "\n",
    "    age_dict = {'[0-10)':5, '[10-20)':15, '[20-30)':25, '[30-40)':35, '[40-50)':45, '[50-60)':55, '[60-70)':65, '[70-80)':75, '[80-90)':85, '[90-100)':95}\n",
    "    inpatients['age'] = inpatients['age'].map(age_dict)\n",
    "    inpatients['age'] = inpatients['age'].astype('int64')\n",
    "    \n",
    "    #inpatients = inpatients.drop_duplicates(subset= ['patient_nbr2'], keep = 'first')\n",
    "    \n",
    "    inpatients = inpatients.drop(drop_col, axis=1)\n",
    "    inpatients = inpatients.fillna(inpatients.mode().iloc[0])\n",
    "    \n",
    "    inpatients = data_to_num(inpatients)\n",
    "    \n",
    "    return inpatients\n",
    "\n",
    "# data visualization-----------------------------------------------------------------------\n",
    "\n",
    "def heat_map(data):\n",
    "    corr = data.corr()\n",
    "    fig = plt.figure()\n",
    "    ax = fig.add_subplot(111)\n",
    "    cax = ax.matshow(corr,cmap='coolwarm', vmin=-1, vmax=1)\n",
    "    fig.colorbar(cax)\n",
    "    ticks = np.arange(0,len(data.columns),1)\n",
    "    ax.set_xticks(ticks)\n",
    "    plt.xticks(rotation=90)\n",
    "    ax.set_yticks(ticks)\n",
    "    ax.set_xticklabels(data.columns)\n",
    "    ax.set_yticklabels(data.columns)\n",
    "    plt.show()\n",
    "    \n",
    "# models-----------------------------------------------------------------------------------\n",
    "\n",
    "def neural_network(sample_train, sample_label):\n",
    "    train_features, test_features, train_labels, test_labels = train_test_split(sample_train, sample_label, test_size=0.30)\n",
    "    clf = MLPClassifier(solver='sgd', alpha=1e-5, hidden_layer_sizes=(5, 2), random_state=1)\n",
    "    clf.fit(train_features, train_labels)  \n",
    "    \n",
    "    y_pred = clf.predict(test_features)\n",
    "    \n",
    "    print(\"Accuracy: \", metrics.accuracy_score(test_labels, y_pred))\n",
    "    print(confusion_matrix(test_labels, y_pred))\n",
    "    print(classification_report(test_labels, y_pred))\n",
    "    \n",
    "def k_nearest_neighbour(sample_train, sample_label):\n",
    "    train_features, test_features, train_labels, test_labels = train_test_split(sample_train, sample_label, test_size=0.50)\n",
    "    clf = KNeighborsClassifier(n_neighbors=25, weights='distance', p=1)\n",
    "    clf.fit(train_features, train_labels)\n",
    "    \n",
    "    y_pred = clf.predict(test_features)\n",
    "    \n",
    "    print(\"Accuracy: \", metrics.accuracy_score(test_labels, y_pred))\n",
    "    print(confusion_matrix(test_labels, y_pred))\n",
    "    print(classification_report(test_labels, y_pred))\n",
    "    \n",
    "def naive_bayes(sample_train, sample_label):\n",
    "    train_features, test_features, train_labels, test_labels = train_test_split(sample_train, sample_label, test_size=0.30)\n",
    "    clf = GaussianNB()\n",
    "    clf.fit(train_features, train_labels)\n",
    "    \n",
    "    y_pred = clf.predict(test_features)\n",
    "    \n",
    "    print(\"Accuracy: \", metrics.accuracy_score(test_labels, y_pred))\n",
    "    print(confusion_matrix(test_labels, y_pred))\n",
    "    print(classification_report(test_labels, y_pred))\n",
    "    \n",
    "def random_forest(train, train_labels, test):\n",
    "    #train_features, test_features, train_labels, test_labels = train_test_split(sample_train, sample_label, test_size=0.30)\n",
    "    clf = RandomForestClassifier(n_estimators=100)\n",
    "\n",
    "    # train the model using the training sets y_pred=clf.predict(X_test)\n",
    "    clf.fit(train, train_labels)\n",
    "    y_pred = clf.predict(test)\n",
    "\n",
    "    # accuracy\n",
    "    #print(\"Accuracy: \", metrics.accuracy_score(test_labels, y_pred))\n",
    "    #print(pd.Series(clf.feature_importances_, list(filter((lambda x: x != \"YES\"), sample_train))).sort_values(ascending=False))\n",
    "    #print(metrics.classification_report(test_labels, y_pred))\n",
    "    #print(metrics.confusion_matrix(test_labels, y_pred))\n",
    "    \n",
    "    return y_pred"
   ]
  },
  {
   "cell_type": "code",
   "execution_count": 3,
   "metadata": {
    "scrolled": true
   },
   "outputs": [],
   "source": [
    "inpatients_train = pd.read_csv(\"C2T1_Train.csv\")\n",
    "inpatients_test = pd.read_csv(\"C2T1_Test.csv\")"
   ]
  },
  {
   "cell_type": "markdown",
   "metadata": {},
   "source": [
    "I removed the 'encounter_id2' feature because every value is unique, thus it does not provide any information. I also replaced all of the '?' values in the dataset to 'NaN' so that I can use pandas based functions to count missing values. Also, for the first problem, we only want to see if a patient was readmitted or not, regardless of how much time passed before they were readmitted. So I will create a duplicate dataset but the class labels will only be either 'YES' or 'NO'."
   ]
  },
  {
   "cell_type": "code",
   "execution_count": 137,
   "metadata": {
    "scrolled": true
   },
   "outputs": [],
   "source": [
    "inpatients.drop('encounter_id2', axis=1, inplace=True)\n",
    "inpatients = inpatients.replace(to_replace='?', value='NaN')\n",
    "\n",
    "age_dict = {'[0-10)':5, '[10-20)':15, '[20-30)':25, '[30-40)':35, '[40-50)':45, '[50-60)':55, '[60-70)':65, '[70-80)':75, '[80-90)':85, '[90-100)':95}\n",
    "inpatients['age'] = inpatients['age'].map(age_dict)\n",
    "inpatients['age'] = inpatients['age'].astype('int64')\n",
    "\n",
    "inpatients = inpatients.drop_duplicates(subset= ['patient_nbr2'], keep = 'first')\n",
    "\n",
    "inpatients2 = inpatients.replace(to_replace='>30', value='YES')\n",
    "inpatients2 = inpatients2.replace(to_replace='<30', value='YES')"
   ]
  },
  {
   "cell_type": "code",
   "execution_count": 110,
   "metadata": {},
   "outputs": [],
   "source": [
    "inpatients2 = inpatients.replace(to_replace='>30', value='YES')\n",
    "inpatients2 = inpatients2.replace(to_replace='<30', value='YES')"
   ]
  },
  {
   "cell_type": "markdown",
   "metadata": {},
   "source": [
    "patient_nbr2 only has 65765 unique values out of 90766, which means either there are missing values or duplicate values. Below we see that there are no null values for patient numbers, but in fact there are duplicates, which means that there are people that were admitted to the hospital multiple times. I removed the records that are subsequent visits to the hospital."
   ]
  },
  {
   "cell_type": "markdown",
   "metadata": {},
   "source": [
    "Looking at the distribution of the class label. This dataset is very balanced between not readmitted and readmitted patients."
   ]
  },
  {
   "cell_type": "code",
   "execution_count": 63,
   "metadata": {
    "scrolled": true
   },
   "outputs": [
    {
     "data": {
      "text/plain": [
       "<matplotlib.axes._subplots.AxesSubplot at 0x1dbfa266f28>"
      ]
     },
     "execution_count": 63,
     "metadata": {},
     "output_type": "execute_result"
    },
    {
     "data": {
      "image/png": "[encoded data removed]",
      "text/plain": [
       "<Figure size 432x288 with 1 Axes>"
      ]
     },
     "metadata": {
      "needs_background": "light"
     },
     "output_type": "display_data"
    }
   ],
   "source": [
    "sns.countplot(inpatients['readmitted'])\n",
    "sns.countplot(inpatients2['readmitted'])"
   ]
  },
  {
   "cell_type": "markdown",
   "metadata": {},
   "source": [
    "Below I decided to see the frequency of drug use for the patients, and found that out of the 23 drugs, 11 of them are used by less than 100 people (out of 90,766). 2 of them were not administered to anybody, and 4 others were only administered to 1 or 2 people. I will likely remove them."
   ]
  },
  {
   "cell_type": "code",
   "execution_count": null,
   "metadata": {
    "scrolled": true
   },
   "outputs": [],
   "source": [
    "drug_use = ['metformin', 'repaglinide', 'nateglinide', 'chlorpropamide', 'glimepiride', 'acetohexamide', 'glipizide',\n",
    "            'glyburide', 'tolbutamide', 'pioglitazone', 'rosiglitazone', 'acarbose', 'miglitol', 'troglitazone', \n",
    "            'tolazamide', 'examide', 'citoglipton', 'insulin', 'glyburide-metformin', 'glipizide-metformin',\n",
    "            'glimepiride-pioglitazone', 'metformin-rosiglitazone', 'metformin-pioglitazone']\n",
    "print('Number of drugs: ', len(drug_use))\n",
    "for (columnName) in drug_use:\n",
    "     if len(inpatients[inpatients[columnName] == 'No']) > 90700:\n",
    "        print('Missing values in ', columnName, ': ', len(inpatients[inpatients[columnName] == 'No']))"
   ]
  },
  {
   "cell_type": "markdown",
   "metadata": {},
   "source": [
    "Before I actually remove any of these columns, I want to see the correlations between attributes. I will create some heat maps and compare different features. If any features are highly correlated with each other, I will remove them. "
   ]
  },
  {
   "cell_type": "markdown",
   "metadata": {},
   "source": [
    "After looking at different groups of features and inspecting their heatmaps, I found that none of the columns in this dataset are highly correlated. This means that there is no redundant data, thus I should not remove them based on correlation. "
   ]
  },
  {
   "cell_type": "code",
   "execution_count": null,
   "metadata": {},
   "outputs": [],
   "source": [
    "heat_map(data_to_num(inpatients[drug_use])"
   ]
  },
  {
   "cell_type": "markdown",
   "metadata": {},
   "source": [
    "Now, I will use a random forest for to inspect feature importances of the remaining features to see if any of them are not important. I will also use the random forest to validate dropping rows. I will run the random forest with all features, all features without any of the drug features, and without the aforementioned features that I considered dropping. Below I also tried some other models, but the random forest performed the best out of all of them."
   ]
  },
  {
   "cell_type": "code",
   "execution_count": 111,
   "metadata": {
    "scrolled": false
   },
   "outputs": [
    {
     "ename": "NameError",
     "evalue": "name 'drug_use' is not defined",
     "output_type": "error",
     "traceback": [
      "\u001b[1;31m---------------------------------------------------------------------------\u001b[0m",
      "\u001b[1;31mNameError\u001b[0m                                 Traceback (most recent call last)",
      "\u001b[1;32m<ipython-input-111-c45d38efe31e>\u001b[0m in \u001b[0;36m<module>\u001b[1;34m\u001b[0m\n\u001b[1;32m----> 1\u001b[1;33m \u001b[0mtrain\u001b[0m \u001b[1;33m=\u001b[0m \u001b[0mdata_to_num\u001b[0m\u001b[1;33m(\u001b[0m\u001b[0minpatients2\u001b[0m\u001b[1;33m.\u001b[0m\u001b[0mdrop\u001b[0m\u001b[1;33m(\u001b[0m\u001b[0mdrug_use\u001b[0m\u001b[1;33m,\u001b[0m \u001b[0maxis\u001b[0m\u001b[1;33m=\u001b[0m\u001b[1;36m1\u001b[0m\u001b[1;33m)\u001b[0m\u001b[1;33m)\u001b[0m\u001b[1;33m\u001b[0m\u001b[1;33m\u001b[0m\u001b[0m\n\u001b[0m\u001b[0;32m      2\u001b[0m \u001b[0msample_label\u001b[0m \u001b[1;33m=\u001b[0m \u001b[0mtrain\u001b[0m\u001b[1;33m[\u001b[0m\u001b[1;34m'readmitted'\u001b[0m\u001b[1;33m]\u001b[0m\u001b[1;33m\u001b[0m\u001b[1;33m\u001b[0m\u001b[0m\n\u001b[0;32m      3\u001b[0m \u001b[0msample_train\u001b[0m \u001b[1;33m=\u001b[0m \u001b[0mtrain\u001b[0m\u001b[1;33m.\u001b[0m\u001b[0mdrop\u001b[0m\u001b[1;33m(\u001b[0m\u001b[1;33m[\u001b[0m\u001b[1;34m'readmitted'\u001b[0m\u001b[1;33m]\u001b[0m\u001b[1;33m,\u001b[0m \u001b[0maxis\u001b[0m\u001b[1;33m=\u001b[0m\u001b[1;36m1\u001b[0m\u001b[1;33m)\u001b[0m\u001b[1;33m\u001b[0m\u001b[1;33m\u001b[0m\u001b[0m\n\u001b[0;32m      4\u001b[0m \u001b[0mrandom_forest\u001b[0m\u001b[1;33m(\u001b[0m\u001b[0msample_train\u001b[0m\u001b[1;33m,\u001b[0m \u001b[0msample_label\u001b[0m\u001b[1;33m)\u001b[0m\u001b[1;33m\u001b[0m\u001b[1;33m\u001b[0m\u001b[0m\n",
      "\u001b[1;31mNameError\u001b[0m: name 'drug_use' is not defined"
     ]
    }
   ],
   "source": [
    "train = data_to_num(inpatients2.drop(drug_use, axis=1))\n",
    "sample_label = train['readmitted']\n",
    "sample_train = train.drop(['readmitted'], axis=1)\n",
    "random_forest(sample_train, sample_label)"
   ]
  },
  {
   "cell_type": "markdown",
   "metadata": {},
   "source": [
    "After trying the random forest 3 times with different features, I found that the accuracy is about the same with our without the drug features. Since they perform about the same, I will remove those features, as they don't provide much information. Also, since the 3 diagnoses features are the most important, I will removed records that don't contain any of them."
   ]
  },
  {
   "cell_type": "code",
   "execution_count": 5,
   "metadata": {
    "scrolled": true
   },
   "outputs": [],
   "source": [
    "drop_col = ['metformin', 'repaglinide', 'nateglinide', 'chlorpropamide', 'glimepiride', 'acetohexamide', 'glipizide',\n",
    "            'glyburide', 'tolbutamide', 'pioglitazone', 'rosiglitazone', 'acarbose', 'miglitol', 'troglitazone', \n",
    "            'tolazamide', 'examide', 'citoglipton', 'insulin', 'glyburide-metformin', 'glipizide-metformin',\n",
    "            'glimepiride-pioglitazone', 'metformin-rosiglitazone', 'metformin-pioglitazone', 'weight','payer_code','medical_specialty']"
   ]
  },
  {
   "cell_type": "code",
   "execution_count": 130,
   "metadata": {
    "scrolled": true
   },
   "outputs": [],
   "source": [
    "inpatients2_dropped = inpatients2.drop(drop_col, axis=1)\n",
    "inpatients2_imputed = inpatients2_dropped.fillna(inpatients2_dropped.mode().iloc[0])\n",
    "\n",
    "inpatients_dropped = inpatients.drop(drop_col, axis=1)\n",
    "inpatients_imputed = inpatients_dropped.fillna(inpatients_dropped.mode().iloc[0])"
   ]
  },
  {
   "cell_type": "code",
   "execution_count": 131,
   "metadata": {},
   "outputs": [],
   "source": [
    "train = data_to_num(inpatients_dropped)\n",
    "sample_label = train['readmitted']\n",
    "sample_train = train.drop(['readmitted'], axis=1)"
   ]
  },
  {
   "cell_type": "code",
   "execution_count": 31,
   "metadata": {
    "scrolled": true
   },
   "outputs": [],
   "source": [
    "train = data_clean(inpatients_train)\n",
    "labels = train['readmitted']\n",
    "train.drop(['readmitted'], axis=1, inplace=True)"
   ]
  },
  {
   "cell_type": "code",
   "execution_count": 32,
   "metadata": {},
   "outputs": [
    {
     "data": {
      "text/plain": [
       "(65765, 22)"
      ]
     },
     "execution_count": 32,
     "metadata": {},
     "output_type": "execute_result"
    }
   ],
   "source": [
    "train.shape"
   ]
  },
  {
   "cell_type": "code",
   "execution_count": 74,
   "metadata": {},
   "outputs": [],
   "source": [
    "test = data_clean(inpatients_test)\n",
    "test.drop(['readmitted'], axis=1, inplace=True)"
   ]
  },
  {
   "cell_type": "code",
   "execution_count": 28,
   "metadata": {},
   "outputs": [
    {
     "ename": "AttributeError",
     "evalue": "'numpy.ndarray' object has no attribute 'drop'",
     "output_type": "error",
     "traceback": [
      "\u001b[1;31m---------------------------------------------------------------------------\u001b[0m",
      "\u001b[1;31mAttributeError\u001b[0m                            Traceback (most recent call last)",
      "\u001b[1;32m<ipython-input-28-52f4db5159ea>\u001b[0m in \u001b[0;36m<module>\u001b[1;34m\u001b[0m\n\u001b[1;32m----> 1\u001b[1;33m \u001b[0mtrain\u001b[0m\u001b[1;33m.\u001b[0m\u001b[0mdrop\u001b[0m\u001b[1;33m(\u001b[0m\u001b[1;33m[\u001b[0m\u001b[1;34m'readmitted'\u001b[0m\u001b[1;33m]\u001b[0m\u001b[1;33m,\u001b[0m \u001b[0maxis\u001b[0m\u001b[1;33m=\u001b[0m\u001b[1;36m1\u001b[0m\u001b[1;33m,\u001b[0m \u001b[0minplace\u001b[0m\u001b[1;33m=\u001b[0m\u001b[1;32mTrue\u001b[0m\u001b[1;33m)\u001b[0m\u001b[1;33m\u001b[0m\u001b[1;33m\u001b[0m\u001b[0m\n\u001b[0m",
      "\u001b[1;31mAttributeError\u001b[0m: 'numpy.ndarray' object has no attribute 'drop'"
     ]
    }
   ],
   "source": [
    "train.drop(['readmitted'], axis=1, inplace=True)"
   ]
  },
  {
   "cell_type": "code",
   "execution_count": 62,
   "metadata": {},
   "outputs": [],
   "source": [
    "ids = inpatients_test.iloc[:,0].values\n",
    "patient_nbr = inpatients_test.iloc[:,1].values"
   ]
  },
  {
   "cell_type": "code",
   "execution_count": 77,
   "metadata": {},
   "outputs": [
    {
     "data": {
      "text/plain": [
       "(11000,)"
      ]
     },
     "execution_count": 77,
     "metadata": {},
     "output_type": "execute_result"
    }
   ],
   "source": [
    "test_labels.shape"
   ]
  },
  {
   "cell_type": "code",
   "execution_count": 78,
   "metadata": {},
   "outputs": [],
   "source": [
    "submission = np.column_stack((ids, patient_nbr, test_labels))"
   ]
  },
  {
   "cell_type": "code",
   "execution_count": 79,
   "metadata": {},
   "outputs": [],
   "source": [
    "np.savetxt(\"C2T1_Test_Lableled.csv\", submission, delimiter=\",\")"
   ]
  }
 ],
 "metadata": {
  "kernelspec": {
   "display_name": "Python 3",
   "language": "python",
   "name": "python3"
  },
  "language_info": {
   "codemirror_mode": {
    "name": "ipython",
    "version": 3
   },
   "file_extension": ".py",
   "mimetype": "text/x-python",
   "name": "python",
   "nbconvert_exporter": "python",
   "pygments_lexer": "ipython3",
   "version": "3.7.1"
  }
 },
 "nbformat": 4,
 "nbformat_minor": 2
}
